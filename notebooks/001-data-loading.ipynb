{
 "cells": [
  {
   "cell_type": "code",
   "execution_count": 3,
   "id": "a991b207-3b13-4f7e-b1c3-7419d237dbbd",
   "metadata": {},
   "outputs": [],
   "source": [
    "import os\n",
    "from pathlib import Path\n",
    "import re"
   ]
  },
  {
   "cell_type": "code",
   "execution_count": 6,
   "id": "4ceb98a2-30c5-45ca-9bd5-62093eb087cd",
   "metadata": {},
   "outputs": [],
   "source": [
    "import h5py\n",
    "import scipy\n",
    "import numpy as np\n",
    "import pandas as pd\n",
    "import matplotlib.pyplot as plt\n",
    "from river import evaluate\n",
    "from river import metrics\n",
    "from river import tree\n",
    "from sklearn.decomposition import PCA"
   ]
  },
  {
   "cell_type": "code",
   "execution_count": 45,
   "id": "745e73db-b70c-49f2-bf5d-5832ee28b551",
   "metadata": {},
   "outputs": [
    {
     "name": "stdout",
     "output_type": "stream",
     "text": [
      "-8.997890000000085e-06\n"
     ]
    }
   ],
   "source": [
    "data_path = Path('datacompletos_sin_escalar.mat')\n",
    "\n",
    "# new_data = scipy.io.loadmat(file, appendmat=False)\n",
    "# fields = scipy.io.whosmat(data_file) # NotImplementedError: Please use HDF reader for matlab v7.3 files, e.g. h5py\n",
    "\n",
    "with h5py.File(data_path, 'r') as data_file:\n",
    "    data = data_file['datacompleto']\n",
    "    # print(data.shape)\n",
    "    # (58008, 5740) -> 2417 × 24 = 58008 points per exp., 5740 experiments as in ECCOMAS paper\n",
    "    # 2460 healthy experiments\n",
    "    # 820 x 4 damaged experiments (4 different damage types)\n",
    "    # Each exp is 9.789s @ 275Hz -> 2417 time instants (× 24 accelerometers = 58008 points)\n",
    "    # print(data.dtype) # float64\n",
    "    print(data[58007][5739]) # First index chooses data point, second one chooses which experiment to take it from\n"
   ]
  },
  {
   "cell_type": "code",
   "execution_count": null,
   "id": "9e61ff4c-0c9c-49a9-bd3f-e43fac9b16b8",
   "metadata": {},
   "outputs": [],
   "source": []
  }
 ],
 "metadata": {
  "kernelspec": {
   "display_name": "Python 3 (ipykernel)",
   "language": "python",
   "name": "python3"
  },
  "language_info": {
   "codemirror_mode": {
    "name": "ipython",
    "version": 3
   },
   "file_extension": ".py",
   "mimetype": "text/x-python",
   "name": "python",
   "nbconvert_exporter": "python",
   "pygments_lexer": "ipython3",
   "version": "3.12.3"
  }
 },
 "nbformat": 4,
 "nbformat_minor": 5
}
