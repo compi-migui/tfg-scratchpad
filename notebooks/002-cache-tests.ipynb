{
 "cells": [
  {
   "cell_type": "code",
   "execution_count": 2,
   "id": "c787e00f-02a7-45df-b5b6-35ceb30eccd8",
   "metadata": {},
   "outputs": [],
   "source": [
    "from joblib import Memory\n",
    "from sklearn import datasets\n",
    "from sklearn.decomposition import PCA\n",
    "from sklearn.pipeline import Pipeline\n",
    "from sklearn.preprocessing import StandardScaler, FunctionTransformer\n",
    "from sklearn.neighbors import KNeighborsClassifier\n",
    "\n",
    "memory = Memory('/tmp/tmp.4n9dKHe9ME', verbose=3)"
   ]
  },
  {
   "cell_type": "code",
   "execution_count": 2,
   "id": "00e0d938-a631-4523-a5d4-02be32b4536a",
   "metadata": {},
   "outputs": [],
   "source": [
    "def noop(X, n=0):\n",
    "    print(f\"Noop executed with n={n}.\")\n",
    "    return X\n",
    "\n",
    "\n",
    "noop_transformers = [FunctionTransformer(noop, kw_args={\"n\":n}) for n in range(7)]"
   ]
  },
  {
   "cell_type": "code",
   "execution_count": 3,
   "id": "dfe9bdf4-30fa-4858-bd95-c378eef99c51",
   "metadata": {},
   "outputs": [],
   "source": [
    "iris = datasets.load_iris()"
   ]
  },
  {
   "cell_type": "code",
   "execution_count": 4,
   "id": "e373347f-df3c-42f6-83d8-c5b6fe8ee148",
   "metadata": {},
   "outputs": [],
   "source": [
    "pipeline_A = Pipeline(\n",
    "    [\n",
    "        ('noop1', noop_transformers[1]),\n",
    "        ('column_scaling', StandardScaler()),\n",
    "        ('noop2', noop_transformers[2]),\n",
    "        ('dim_reduction', PCA(n_components=4)),\n",
    "        ('noop3', noop_transformers[3])\n",
    "    ],\n",
    "    memory=memory,\n",
    "    verbose=True\n",
    ")\n",
    "\n",
    "pipeline_B = Pipeline(\n",
    "    [\n",
    "        ('noop4', noop_transformers[1]),\n",
    "        ('column_scaling', StandardScaler()),\n",
    "        ('noop5', noop_transformers[2]),\n",
    "        ('dim_reduction', PCA(n_components=4)),\n",
    "        ('noop6', noop_transformers[3])\n",
    "    ],\n",
    "    memory=memory,\n",
    "    verbose=True\n",
    "    )"
   ]
  },
  {
   "cell_type": "code",
   "execution_count": null,
   "id": "0860d294-3dc2-477b-a166-6e94657bcf3c",
   "metadata": {},
   "outputs": [],
   "source": [
    "pca_A = pipeline_A.fit(iris.data)"
   ]
  },
  {
   "cell_type": "code",
   "execution_count": 7,
   "id": "d74700e7-d7e5-42f4-b167-5242274a1844",
   "metadata": {},
   "outputs": [
    {
     "name": "stdout",
     "output_type": "stream",
     "text": [
      "________________________________________________________________________________\n",
      "[Memory] Calling sklearn.pipeline._fit_transform_one...\n",
      "_fit_transform_one(FunctionTransformer(func=<function noop at 0x7f0b44a8b240>, kw_args={'n': 1}), array([[5.1, ..., 0.2],\n",
      "       ...,\n",
      "       [5.9, ..., 1.8]]), None, None, message_clsname='Pipeline', message='(step 1 of 5) Processing noop4', params={ 'decision_function': {},\n",
      "  'fit': {},\n",
      "  'fit_predict': {},\n",
      "  'fit_transform': {},\n",
      "  'inverse_transform': {},\n",
      "  'partial_fit': {},\n",
      "  'predict': {},\n",
      "  'predict_log_proba': {},\n",
      "  'predict_proba': {},\n",
      "  'score': {},\n",
      "  'split': {},\n",
      "  'transform': {}})\n",
      "Noop executed with n=1.\n",
      "[Pipeline] ............. (step 1 of 5) Processing noop4, total=   0.0s\n",
      "________________________________________________fit_transform_one - 0.0s, 0.0min\n",
      "[Memory]142.8s, 2.4min  : Loading _fit_transform_one...\n",
      "________________________________________________________________________________\n",
      "[Memory] Calling sklearn.pipeline._fit_transform_one...\n",
      "_fit_transform_one(FunctionTransformer(func=<function noop at 0x7f0b44a8b240>, kw_args={'n': 2}), array([[-0.900681, ..., -1.315444],\n",
      "       ...,\n",
      "       [ 0.068662, ...,  0.790671]]), \n",
      "None, None, message_clsname='Pipeline', message='(step 3 of 5) Processing noop5', params={ 'decision_function': {},\n",
      "  'fit': {},\n",
      "  'fit_predict': {},\n",
      "  'fit_transform': {},\n",
      "  'inverse_transform': {},\n",
      "  'partial_fit': {},\n",
      "  'predict': {},\n",
      "  'predict_log_proba': {},\n",
      "  'predict_proba': {},\n",
      "  'score': {},\n",
      "  'split': {},\n",
      "  'transform': {}})\n",
      "Noop executed with n=2.\n",
      "[Pipeline] ............. (step 3 of 5) Processing noop5, total=   0.0s\n",
      "________________________________________________fit_transform_one - 0.0s, 0.0min\n",
      "[Memory]142.9s, 2.4min  : Loading _fit_transform_one...\n",
      "[Pipeline] ............. (step 5 of 5) Processing noop6, total=   0.0s\n"
     ]
    }
   ],
   "source": [
    "pca_A = pipeline_A.fit(iris.data)"
   ]
  },
  {
   "cell_type": "code",
   "execution_count": null,
   "id": "7ae59703-a35a-4d13-9101-9bd3980c1e4a",
   "metadata": {},
   "outputs": [],
   "source": [
    "pca_B = pipeline_B.fit(iris.data)"
   ]
  }
 ],
 "metadata": {
  "kernelspec": {
   "display_name": "Python 3 (ipykernel)",
   "language": "python",
   "name": "python3"
  },
  "language_info": {
   "codemirror_mode": {
    "name": "ipython",
    "version": 3
   },
   "file_extension": ".py",
   "mimetype": "text/x-python",
   "name": "python",
   "nbconvert_exporter": "python",
   "pygments_lexer": "ipython3",
   "version": "3.12.3"
  }
 },
 "nbformat": 4,
 "nbformat_minor": 5
}
