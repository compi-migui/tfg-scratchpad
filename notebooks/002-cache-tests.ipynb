{
 "cells": [
  {
   "cell_type": "code",
   "execution_count": 2,
   "id": "c787e00f-02a7-45df-b5b6-35ceb30eccd8",
   "metadata": {},
   "outputs": [],
   "source": [
    "from joblib import Memory\n",
    "from sklearn import datasets\n",
    "from sklearn.decomposition import PCA\n",
    "from sklearn.pipeline import Pipeline\n",
    "from sklearn.preprocessing import StandardScaler, FunctionTransformer\n",
    "from sklearn.neighbors import KNeighborsClassifier\n",
    "\n",
    "memory = Memory('/tmp/tmp.4n9dKHe9ME', verbose=3)"
   ]
  },
  {
   "cell_type": "code",
   "execution_count": 9,
   "id": "00e0d938-a631-4523-a5d4-02be32b4536a",
   "metadata": {},
   "outputs": [],
   "source": [
    "def noop(X, n=0):\n",
    "    print(f\"Noop executed with n={n}.\")\n",
    "    return X\n",
    "\n",
    "\n",
    "noop_transformers = [FunctionTransformer(noop, kw_args={\"n\":n}) for n in range(7)]"
   ]
  },
  {
   "cell_type": "code",
   "execution_count": 6,
   "id": "dfe9bdf4-30fa-4858-bd95-c378eef99c51",
   "metadata": {},
   "outputs": [],
   "source": [
    "iris = datasets.load_iris()"
   ]
  },
  {
   "cell_type": "code",
   "execution_count": 10,
   "id": "e373347f-df3c-42f6-83d8-c5b6fe8ee148",
   "metadata": {},
   "outputs": [],
   "source": [
    "pipeline_A = Pipeline(\n",
    "    [\n",
    "        ('column_scaling', StandardScaler()),\n",
    "        ('dim_reduction', PCA(n_components=4)),\n",
    "        ('noop6', noop_transformers[3])\n",
    "    ],\n",
    "    memory=memory,\n",
    "    verbose=False\n",
    ")\n",
    "\n",
    "pipeline_B = Pipeline(\n",
    "    [\n",
    "        ('column_scaling', StandardScaler()),\n",
    "        ('dim_reduction', PCA(n_components=4)),\n",
    "        ('noop6', noop_transformers[3])\n",
    "    ],\n",
    "    memory=memory,\n",
    "    verbose=False\n",
    "    )"
   ]
  },
  {
   "cell_type": "code",
   "execution_count": 12,
   "id": "0860d294-3dc2-477b-a166-6e94657bcf3c",
   "metadata": {},
   "outputs": [
    {
     "name": "stdout",
     "output_type": "stream",
     "text": [
      "________________________________________________________________________________\n",
      "[Memory] Calling sklearn.pipeline._fit_transform_one...\n",
      "_fit_transform_one(StandardScaler(), array([[5.1, ..., 0.2],\n",
      "       ...,\n",
      "       [5.9, ..., 1.8]]), None, None, message_clsname='Pipeline', message=None, params={ 'decision_function': {},\n",
      "  'fit': {},\n",
      "  'fit_predict': {},\n",
      "  'fit_transform': {},\n",
      "  'inverse_transform': {},\n",
      "  'partial_fit': {},\n",
      "  'predict': {},\n",
      "  'predict_log_proba': {},\n",
      "  'predict_proba': {},\n",
      "  'score': {},\n",
      "  'split': {},\n",
      "  'transform': {}})\n",
      "________________________________________________fit_transform_one - 0.0s, 0.0min\n",
      "________________________________________________________________________________\n",
      "[Memory] Calling sklearn.pipeline._fit_transform_one...\n",
      "_fit_transform_one(PCA(n_components=4), array([[-0.900681, ..., -1.315444],\n",
      "       ...,\n",
      "       [ 0.068662, ...,  0.790671]]), \n",
      "None, None, message_clsname='Pipeline', message=None, params={ 'decision_function': {},\n",
      "  'fit': {},\n",
      "  'fit_predict': {},\n",
      "  'fit_transform': {},\n",
      "  'inverse_transform': {},\n",
      "  'partial_fit': {},\n",
      "  'predict': {},\n",
      "  'predict_log_proba': {},\n",
      "  'predict_proba': {},\n",
      "  'score': {},\n",
      "  'split': {},\n",
      "  'transform': {}})\n",
      "________________________________________________fit_transform_one - 0.0s, 0.0min\n"
     ]
    }
   ],
   "source": [
    "pca_A = pipeline_A.fit(iris.data)"
   ]
  },
  {
   "cell_type": "code",
   "execution_count": 13,
   "id": "d74700e7-d7e5-42f4-b167-5242274a1844",
   "metadata": {},
   "outputs": [
    {
     "name": "stdout",
     "output_type": "stream",
     "text": [
      "[Memory]213.7s, 3.6min  : Loading _fit_transform_one...\n",
      "[Memory]213.7s, 3.6min  : Loading _fit_transform_one...\n"
     ]
    }
   ],
   "source": [
    "pca_A = pipeline_A.fit(iris.data)"
   ]
  },
  {
   "cell_type": "code",
   "execution_count": 14,
   "id": "7ae59703-a35a-4d13-9101-9bd3980c1e4a",
   "metadata": {},
   "outputs": [
    {
     "name": "stdout",
     "output_type": "stream",
     "text": [
      "[Memory]225.5s, 3.8min  : Loading _fit_transform_one...\n",
      "[Memory]225.5s, 3.8min  : Loading _fit_transform_one...\n"
     ]
    }
   ],
   "source": [
    "pca_B = pipeline_B.fit(iris.data)"
   ]
  },
  {
   "cell_type": "code",
   "execution_count": null,
   "id": "d4154b24-eef6-4bf3-ad88-76d7fae333a7",
   "metadata": {},
   "outputs": [],
   "source": []
  }
 ],
 "metadata": {
  "kernelspec": {
   "display_name": "Python 3 (ipykernel)",
   "language": "python",
   "name": "python3"
  },
  "language_info": {
   "codemirror_mode": {
    "name": "ipython",
    "version": 3
   },
   "file_extension": ".py",
   "mimetype": "text/x-python",
   "name": "python",
   "nbconvert_exporter": "python",
   "pygments_lexer": "ipython3",
   "version": "3.12.3"
  }
 },
 "nbformat": 4,
 "nbformat_minor": 5
}
